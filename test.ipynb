{
 "cells": [
  {
   "cell_type": "code",
   "execution_count": 2,
   "metadata": {},
   "outputs": [],
   "source": [
    "import sys\n",
    "\n",
    "req = ('GET /rfc/rfc{rfcnum}.txt HTTP/1.1\\r\\n'\n",
    "'Host: {host}:{port}\\r\\n'\n",
    "'User-Agent: Python {version}\\r\\n'\n",
    "'Connection: close\\r\\n'\n",
    "'\\r\\n'\n",
    ")\n",
    "\n",
    "rfc_number = 2324\n",
    "host = 'www.rfc-editor.org'\n",
    "port = 80\n",
    "req = req.format(rfcnum=rfc_number, host=host, port=port, version=sys.version_info[0])"
   ]
  },
  {
   "cell_type": "code",
   "execution_count": 3,
   "metadata": {},
   "outputs": [
    {
     "data": {
      "text/plain": [
       "'GET /rfc/rfc2324.txt HTTP/1.1\\r\\nHost: www.rfc-editor.org:80\\r\\nUser-Agent: Python 3\\r\\nConnection: close\\r\\n\\r\\n'"
      ]
     },
     "execution_count": 3,
     "metadata": {},
     "output_type": "execute_result"
    }
   ],
   "source": [
    "req"
   ]
  },
  {
   "cell_type": "code",
   "execution_count": 4,
   "metadata": {},
   "outputs": [
    {
     "name": "stdout",
     "output_type": "stream",
     "text": [
      "GET /rfc/rfc2324.txt HTTP/1.1\r\n",
      "Host: www.rfc-editor.org:80\r\n",
      "User-Agent: Python 3\r\n",
      "Connection: close\r\n",
      "\r\n",
      "\n"
     ]
    }
   ],
   "source": [
    "print(req)"
   ]
  },
  {
   "cell_type": "code",
   "execution_count": 5,
   "metadata": {},
   "outputs": [
    {
     "data": {
      "text/plain": [
       "str"
      ]
     },
     "execution_count": 5,
     "metadata": {},
     "output_type": "execute_result"
    }
   ],
   "source": [
    "type(req)"
   ]
  },
  {
   "cell_type": "code",
   "execution_count": 6,
   "metadata": {},
   "outputs": [
    {
     "name": "stdout",
     "output_type": "stream",
     "text": [
      "HTTP/1.1 301 Moved Permanently\r\n",
      "Date: Wed, 23 Sep 2020 04:20:01 GMT\r\n",
      "Server: Apache\r\n",
      "Location: https://www.rfc-editor.org/rfc/rfc2324.txt\r\n",
      "Content-Length: 250\r\n",
      "Connection: close\r\n",
      "Content-Type: text/html; charset=iso-8859-1\r\n",
      "\r\n",
      "<!DOCTYPE HTML PUBLIC \"-//IETF//DTD HTML 2.0//EN\">\n",
      "<html><head>\n",
      "<title>301 Moved Permanently</title>\n",
      "</head><body>\n",
      "<h1>Moved Permanently</h1>\n",
      "<p>The document has moved <a href=\"https://www.rfc-editor.org/rfc/rfc2324.txt\">here</a>.</p>\n",
      "</body></html>\n",
      "\n"
     ]
    }
   ],
   "source": [
    "import sys, socket\n",
    "\n",
    "try:\n",
    "    rfc_number = 2324\n",
    "except (IndexError, ValueError):\n",
    "    print('Must supply an RFC number as first argument')\n",
    "    sys.exit(2)\n",
    "\n",
    "host = 'www.rfc-editor.org'\n",
    "port = 80\n",
    "sock = socket.create_connection((host, port))\n",
    "\n",
    "req = ('GET /rfc/rfc{rfcnum}.txt HTTP/1.1\\r\\n'\n",
    "'Host: {host}:{port}\\r\\n'\n",
    "'User-Agent: Python {version}\\r\\n'\n",
    "'Connection: close\\r\\n'\n",
    "'\\r\\n'\n",
    ")\n",
    "\n",
    "req = req.format(rfcnum=rfc_number, host=host, port=port, version=sys.version_info[0])\n",
    "sock.sendall(req.encode('ascii'))\n",
    "rfc_bytes = bytearray()\n",
    "\n",
    "while True:\n",
    "    buf = sock.recv(4096)\n",
    "    if not len(buf):\n",
    "        break\n",
    "    rfc_bytes += buf\n",
    "rfc = rfc_bytes.decode('utf-8')\n",
    "print(rfc)"
   ]
  },
  {
   "cell_type": "code",
   "execution_count": null,
   "metadata": {},
   "outputs": [],
   "source": []
  }
 ],
 "metadata": {
  "kernelspec": {
   "display_name": "Python 3",
   "language": "python",
   "name": "python3"
  },
  "language_info": {
   "codemirror_mode": {
    "name": "ipython",
    "version": 3
   },
   "file_extension": ".py",
   "mimetype": "text/x-python",
   "name": "python",
   "nbconvert_exporter": "python",
   "pygments_lexer": "ipython3",
   "version": "3.7.3"
  }
 },
 "nbformat": 4,
 "nbformat_minor": 2
}
